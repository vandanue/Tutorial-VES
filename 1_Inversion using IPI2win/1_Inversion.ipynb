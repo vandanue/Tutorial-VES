{
 "cells": [
  {
   "cell_type": "markdown",
   "id": "0b5f5bb5",
   "metadata": {},
   "source": [
    "## Pengolahan Vertical Electrical Sounding\n",
    "Author: Annora Vandanu Erlangga"
   ]
  },
  {
   "cell_type": "markdown",
   "id": "1fcb7a54",
   "metadata": {},
   "source": [
    "Vertical electrical sounding (VES) merupakan pengukuran resistivitas 1 dimensi. Pengukuran resistivitas semu pada permukaan nonhomogen didefinisikan dalam:\n",
    "\n",
    "$$\n",
    "\\rho_{a} = K \\frac{\\Delta V}{I} \\tag{1}\n",
    "$$\n",
    "\n",
    "di mana $K$ adalah faktor geometri. Metode *sounding* dilakukan pada suatu titik spesifik sehingga nilai $K$ berubah secara progresif sepanjang pengukuran. Metode ini menghasilkan nilai resistivitas semu pada permukaan yang menggambarkan distribusi resistivitas secara vertikal. \n",
    "\n",
    "Konfigurasi elektroda yang umum digunakan pada pengukuran VES adalah konfigurasi Schlumberger (Gambar 1). Elektroda arus $A, B$ diletakkan secara simetri terhadap elektroda potensial $M, N$ dan titik tengah dari pelebaran lintasan, $O$, adalah titik *sounding*. Nilai resistivitas semu yang didapatkan dari pengukuran lapangan diplot sebagai fungsi dari $AB/2$ atau setengah dari jarak elektroda arus. Metode sounding \"*theoritically speaking*\" dilakukan dengan hanya mengubah jarak $AB$ dan menggeser elektroda potensial $MN$. Namun, saat jarak $AB$ sangat panjang, perubahan nilai potensial antara $M$ dan $N$ akan sangat kecil, sehingga diperlukan penambahan jarak antara $M$ dan $N$.\n",
    "\n",
    "<div align=\"center\">\n",
    "  <img src=\"pic1_schlumberger-array.png\" width=\"500\"/>\n",
    "  <p><em>Gambar 1. Konfigurasi Schlumberger</em></p>\n",
    "</div>"
   ]
  },
  {
   "cell_type": "markdown",
   "id": "3b72c66d",
   "metadata": {},
   "source": [
    "Pengolahan VES dapat dilakukan menggunakan software [IPI2win](http://geophys01.geol.msu.ru/ipi2win.htm). IPI2win adalah program untuk interpretasi manual dan automatis kurva VES 1D. Penggunaan IPI2win untuk pemrosesan data VES meliputi tahapan dua tahapan, yaitu input data dan koreksi error data. Input data dapat dilakukan secara langsung dari data lapangan (*log sheet*) (nilai $AB/2$, $V$, $I$, dan $K$) atau secara tidak langsung dengan menghitung terlebih dahulu nilai resistivitas semu ($\\rho_{a}$). Pada notebook ini, saya akan memberikan tutorial *indirectly* pemrosesan VES menggunakan IPI2win. Saya menggunakan data VES dari USGS yang memberikan langsung nilai $AB/2$ dan $\\rho_{a}$. \n",
    "> Briggs, M.A., Nelson, N.C., Gardner, P.M., and Lane, J.W., 2018, Electrical geophysical data collected in the Scott M. Matheson Wetlands Preserve near Moab, Utah: U.S. Geological Survey data release, https://doi.org/10.5066/F75M63ZF.\n",
    "\n",
    "Perhitungan nilai $\\rho_{a}$ dapat dilakukan secara mandiri untuk masing-masing kelompok dengan cara yang sama seperti pertemuan pengolahan data ERT di kelas."
   ]
  },
  {
   "cell_type": "markdown",
   "id": "18e1827e",
   "metadata": {},
   "source": [
    "#### 1. Input data ke IPI2win\n",
    "Data VES contoh didapatkan dari USGS merupakan penelitian yang berlokasi di Scott M. Matheson Wetlands Preserve, Utah. Data tersebut berisi empat lintasan pengukuran VES (Gambar 2).\n",
    "\n",
    "<div align=\"center\">\n",
    "  <img src=\"pic2_ves-data.png\" width=\"700\"/>\n",
    "  <p><em>Gambar 2. Data VES (sumber: USGS)</em></p>\n",
    "</div>\n",
    "\n",
    "Inputan data yang diperlukan untuk software IPI2win adalah nilai $AB/2$ dan $\\rho_{a}$. Langkah pertama setelah membuka IPI2win adalah memasukkan data VES dengan klik `File` > `New VES point`. Kemudian, masukkan nilai $AB/2$ dan $\\rho_{a}$. Untuk menyalin angka menuju IPI2win, kita **tidak dapat** langsung menggunakan `ctrl + C` dan `ctrl + V`. Untuk menyalin angka ke IPI2win, kita harus klik kanan pada baris tabel pertama, lalu *paste* datanya.\n",
    "\n",
    "<div align=\"center\">\n",
    "  <img src=\"pic3_add-ves-point.png\" width=\"700\"/>\n",
    "  <p><em>Gambar 3. Memasukkan data VES</em></p>\n",
    "</div>\n",
    "\n",
    "<div align=\"center\">\n",
    "  <img src=\"pic4_copy.png\" width=\"700\"/>\n",
    "  <p><em>Gambar 4. Menyalin data VES</em></p>\n",
    "</div>\n",
    "\n",
    "Hal yang perlu diperhatikan adalah konfigurasi elektroda yang digunakan. Konfigurasi dapat diganti sesuai akuisisi di lapangan. Secara umum, konfigurasi yang dipakai di VES adalah konfigurasi Schlumberger. Jika konfigurasi yang digunakan pada akuisisi di lapangan berbeda, jenis konfigurasi dapat diganti pada setting di atas tabel input data. Setelah memasukkan semua data VES, titik data resistivitas semu terhadap AB/2 akan diplot di sebelah kolom data VES. \n",
    "\n",
    "<div align=\"center\">\n",
    "  <img src=\"pic5_add-data.png\" width=\"700\"/>\n",
    "  <p><em>Gambar 5. Input data</em></p>\n",
    "</div>\n",
    "\n",
    "Setelah itu, klik `OK` lalu simpan data VES. Format penyimpanan berbentuk `.dat`. Sangat disarankan untuk membuat folder untuk tiap lintasan VES jika terdapat lebih dari satu lintasan. \n",
    "\n",
    "<div align=\"center\">\n",
    "  <img src=\"pic6_save.png\" width=\"700\"/>\n",
    "  <p><em>Gambar 6. Simpan data</em></p>\n",
    "</div>"
   ]
  },
  {
   "cell_type": "markdown",
   "id": "e92a5c8e",
   "metadata": {},
   "source": [
    "#### 2. Inversi VES\n",
    "Proses inversi VES menggunakan IPI2win menggunakan metode *straightforward inversion* dengan hanya menentukan parameter banyaknya lapisan sebagai model awal inversi (Gupta, 1997). Untuk input parameter banyaknya *layer*, klik `Options` > `New model`, lalu masukkan banyaknya *layer* untuk model awal inversi. Jika sudah, klik `OK`. Banyaknya layer yang digunakan memerlukan iterasi beberapa kali bergantung pada besarnya error pada data observasi dengan hasil kalkulasi. Untuk memproses inversi VES, klik tanda panah hijau atau tekan `spacebar` pada keyboard.\n",
    "\n",
    "<div align=\"center\">\n",
    "  <img src=\"pic7_define-layer.png\" width=\"700\"/>\n",
    "  <p><em>Gambar 7. Model awal inversi</em></p>\n",
    "</div>\n",
    "\n",
    "<div align=\"center\">\n",
    "  <img src=\"pic8_process-inv.png\" width=\"700\"/>\n",
    "  <p><em>Gambar 8. Memproses inversi</em></p>\n",
    "</div>\n",
    "\n",
    "Hasil inversi VES akan menghasilkan kurva resistivitas asli, model kalkulasi, dan data observasi (Gambar 9). Terdapat nilai error dari data observasi dengan kurva *fitting curve* model kalkulasi. \n",
    "\n",
    "<div align=\"center\">\n",
    "  <img src=\"pic9_inversion-result.png\" width=\"700\"/>\n",
    "  <p><em>Gambar 9. Hasil inversi</em></p>\n",
    "</div>\n",
    "\n",
    "Setelah proses inversi selesai (mendapatkan nilai error terkecil), proses selanjutnya adalah menyalin data kurva inversi dan model kalkulasi ke dalam file `.txt`. Klik `Edit` > `Copy model&curve`, lalu buat file `.txt` untuk menyimpan data hasil inversi. Pisahkan file `.txt` untuk masing-masing lintasan jika terdapat lebih dari satu. Proses terakhir adalah membuat plot kurva inversi maupun model kalkulasi menggunakan `matplotlib` di python. Skrip plot data akan disediakan pada folder `2_Plot data`\n",
    "\n",
    "<div align=\"center\">\n",
    "  <img src=\"pic10_copy-result.png\" width=\"700\"/>\n",
    "  <p><em>Gambar 10. Salin hasil inversi</em></p>\n",
    "</div>"
   ]
  }
 ],
 "metadata": {
  "kernelspec": {
   "display_name": "Python 3",
   "language": "python",
   "name": "python3"
  },
  "language_info": {
   "name": "python",
   "version": "3.13.0"
  }
 },
 "nbformat": 4,
 "nbformat_minor": 5
}
